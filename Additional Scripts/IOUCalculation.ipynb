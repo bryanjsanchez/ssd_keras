{
 "cells": [
  {
   "cell_type": "code",
   "execution_count": 2,
   "metadata": {},
   "outputs": [],
   "source": [
    "def parsetxt(filename):\n",
    "    with open(filename) as f:\n",
    "        contents = {}\n",
    "        num = 0\n",
    "        for line in f:\n",
    "            contents[num] = line.strip().split()\n",
    "            num+=1\n",
    "        \n",
    "        for length in range(len(contents)):\n",
    "            for length2 in range(len(contents[length])):\n",
    "                contents[length][length2] = int(float(contents[length][length2]))\n",
    "                \n",
    "    return contents"
   ]
  },
  {
   "cell_type": "code",
   "execution_count": 3,
   "metadata": {},
   "outputs": [],
   "source": [
    "def IOUcal(dictlist1, dictlist2, IOU):\n",
    "    \n",
    "    for i in range(len(dictlist1)):\n",
    "        for j in range(len(dictlist2)):\n",
    "            \n",
    "            Xi1 = dictlist1[i][1]\n",
    "            Yi1 = dictlist1[i][0]\n",
    "            Xj1 = dictlist2[j][1]\n",
    "            Yj1 = dictlist2[j][0]\n",
    "            \n",
    "            Xi2 = dictlist1[i][3]\n",
    "            Yi2 = dictlist1[i][2]\n",
    "            Xj2 = dictlist2[j][3]\n",
    "            Yj2 = dictlist2[j][2]\n",
    "\n",
    "            xA = max(Xi1, Xj1)\n",
    "            yA = max(Yi1, Yj1)\n",
    "            xB = min(Xi2, Xj2)\n",
    "            yB = min(Yi2, Yj2)\n",
    "            \n",
    "            \n",
    "            if((Xi1 <= xA <= Xi2 and Xj1 <= xA <= Xj2) and (Yi1 <= yA <= Yi2 and Yj1 <= yA <= Yj2 ) and \n",
    "              (Xi1 <= xB <= Xi2 and Xj1 <= xB <= Xj2) and (Yi1 <= yB <= Yi2 and Yj1 <= yB <= Yj2 )):\n",
    "    \n",
    "                # compute the area of intersection rectangle\n",
    "                interArea = (xB - xA ) * (yB - yA )\n",
    "\n",
    "                # compute the area of both the prediction and ground-truth rectangles\n",
    "                boxAArea = (dictlist1[i][3] - dictlist1[i][1]) * (dictlist1[i][2] - dictlist1[i][0])\n",
    "                boxBArea = (dictlist2[j][3] - dictlist2[j][1]) * (dictlist2[j][2] - dictlist2[j][0])\n",
    "\n",
    "                # compute the intersection over union by taking the intersection\n",
    "                # area and dividing it by the sum of prediction + ground-truth\n",
    "                # areas - the interesection area\n",
    "                result = round(interArea/(boxAArea + boxBArea - interArea),2)\n",
    "                \n",
    "                if(result > 0.5): \n",
    "                    IOU.append(result)\n",
    "                    break\n",
    "\n",
    "    return IOU          "
   ]
  },
  {
   "cell_type": "code",
   "execution_count": 4,
   "metadata": {},
   "outputs": [],
   "source": [
    "def calculateRecallSingleType(originalList, generatedList):\n",
    "    labelCount = 0    \n",
    "    denominator = len(originalList)\n",
    "    IOU = []\n",
    "    IOUcal(originalList, generatedList, IOU)\n",
    "    labelCount = len(IOU)\n",
    "    \n",
    "                   \n",
    "    return labelCount,denominator"
   ]
  },
  {
   "cell_type": "code",
   "execution_count": 8,
   "metadata": {},
   "outputs": [],
   "source": [
    "def calculatePrecisionSingleType(originalList, generatedList):\n",
    "    labelCount = 0    \n",
    "    denominator = len(generatedList)\n",
    "    IOU = []\n",
    "    IOUcal(originalList, generatedList, IOU)\n",
    "    labelCount = len(IOU)\n",
    "    \n",
    "    return labelCount, denominator"
   ]
  },
  {
   "cell_type": "code",
   "execution_count": 9,
   "metadata": {},
   "outputs": [],
   "source": [
    "def main():\n",
    "    precisionList = []\n",
    "    recallList = []\n",
    "    origlist = parsetxt('new testlabels copy.csv')\n",
    "    genlist = parsetxt('predictions_020thresh_inv.csv')\n",
    "    print(origlist)\n",
    "    print(genlist)\n",
    "    recallList.append(calculateRecallSingleType(origlist, genlist))\n",
    "    precisionList.append(calculatePrecisionSingleType(origlist, genlist))\n",
    "    return recallList, precisionList\n",
    "        "
   ]
  },
  {
   "cell_type": "code",
   "execution_count": 10,
   "metadata": {},
   "outputs": [
    {
     "ename": "ValueError",
     "evalue": "could not convert string to float: '1ROI_100kx_4100CL_foil1.jpg,1,104,43,198,128,,,1ROI_100kx_4100CL_foil1.jpg,,200kV_500kx_p2nm_8cmCL_grain1_0056'",
     "output_type": "error",
     "traceback": [
      "\u001b[0;31m---------------------------------------------------------------------------\u001b[0m",
      "\u001b[0;31mValueError\u001b[0m                                Traceback (most recent call last)",
      "\u001b[0;32m<ipython-input-10-6558d5c14aad>\u001b[0m in \u001b[0;36m<module>\u001b[0;34m()\u001b[0m\n\u001b[0;32m----> 1\u001b[0;31m \u001b[0mrec\u001b[0m\u001b[0;34m,\u001b[0m \u001b[0mprec\u001b[0m \u001b[0;34m=\u001b[0m \u001b[0mmain\u001b[0m\u001b[0;34m(\u001b[0m\u001b[0;34m)\u001b[0m\u001b[0;34m\u001b[0m\u001b[0m\n\u001b[0m",
      "\u001b[0;32m<ipython-input-9-ceb665deeb17>\u001b[0m in \u001b[0;36mmain\u001b[0;34m()\u001b[0m\n\u001b[1;32m      2\u001b[0m     \u001b[0mprecisionList\u001b[0m \u001b[0;34m=\u001b[0m \u001b[0;34m[\u001b[0m\u001b[0;34m]\u001b[0m\u001b[0;34m\u001b[0m\u001b[0m\n\u001b[1;32m      3\u001b[0m     \u001b[0mrecallList\u001b[0m \u001b[0;34m=\u001b[0m \u001b[0;34m[\u001b[0m\u001b[0;34m]\u001b[0m\u001b[0;34m\u001b[0m\u001b[0m\n\u001b[0;32m----> 4\u001b[0;31m     \u001b[0moriglist\u001b[0m \u001b[0;34m=\u001b[0m \u001b[0mparsetxt\u001b[0m\u001b[0;34m(\u001b[0m\u001b[0;34m'new testlabels copy.csv'\u001b[0m\u001b[0;34m)\u001b[0m\u001b[0;34m\u001b[0m\u001b[0m\n\u001b[0m\u001b[1;32m      5\u001b[0m     \u001b[0mgenlist\u001b[0m \u001b[0;34m=\u001b[0m \u001b[0mparsetxt\u001b[0m\u001b[0;34m(\u001b[0m\u001b[0;34m'predictions_020thresh_inv.csv'\u001b[0m\u001b[0;34m)\u001b[0m\u001b[0;34m\u001b[0m\u001b[0m\n\u001b[1;32m      6\u001b[0m     \u001b[0mprint\u001b[0m\u001b[0;34m(\u001b[0m\u001b[0moriglist\u001b[0m\u001b[0;34m)\u001b[0m\u001b[0;34m\u001b[0m\u001b[0m\n",
      "\u001b[0;32m<ipython-input-2-57f0a6d7a033>\u001b[0m in \u001b[0;36mparsetxt\u001b[0;34m(filename)\u001b[0m\n\u001b[1;32m      9\u001b[0m         \u001b[0;32mfor\u001b[0m \u001b[0mlength\u001b[0m \u001b[0;32min\u001b[0m \u001b[0mrange\u001b[0m\u001b[0;34m(\u001b[0m\u001b[0mlen\u001b[0m\u001b[0;34m(\u001b[0m\u001b[0mcontents\u001b[0m\u001b[0;34m)\u001b[0m\u001b[0;34m)\u001b[0m\u001b[0;34m:\u001b[0m\u001b[0;34m\u001b[0m\u001b[0m\n\u001b[1;32m     10\u001b[0m             \u001b[0;32mfor\u001b[0m \u001b[0mlength2\u001b[0m \u001b[0;32min\u001b[0m \u001b[0mrange\u001b[0m\u001b[0;34m(\u001b[0m\u001b[0mlen\u001b[0m\u001b[0;34m(\u001b[0m\u001b[0mcontents\u001b[0m\u001b[0;34m[\u001b[0m\u001b[0mlength\u001b[0m\u001b[0;34m]\u001b[0m\u001b[0;34m)\u001b[0m\u001b[0;34m)\u001b[0m\u001b[0;34m:\u001b[0m\u001b[0;34m\u001b[0m\u001b[0m\n\u001b[0;32m---> 11\u001b[0;31m                 \u001b[0mcontents\u001b[0m\u001b[0;34m[\u001b[0m\u001b[0mlength\u001b[0m\u001b[0;34m]\u001b[0m\u001b[0;34m[\u001b[0m\u001b[0mlength2\u001b[0m\u001b[0;34m]\u001b[0m \u001b[0;34m=\u001b[0m \u001b[0mint\u001b[0m\u001b[0;34m(\u001b[0m\u001b[0mfloat\u001b[0m\u001b[0;34m(\u001b[0m\u001b[0mcontents\u001b[0m\u001b[0;34m[\u001b[0m\u001b[0mlength\u001b[0m\u001b[0;34m]\u001b[0m\u001b[0;34m[\u001b[0m\u001b[0mlength2\u001b[0m\u001b[0;34m]\u001b[0m\u001b[0;34m)\u001b[0m\u001b[0;34m)\u001b[0m\u001b[0;34m\u001b[0m\u001b[0m\n\u001b[0m\u001b[1;32m     12\u001b[0m \u001b[0;34m\u001b[0m\u001b[0m\n\u001b[1;32m     13\u001b[0m     \u001b[0;32mreturn\u001b[0m \u001b[0mcontents\u001b[0m\u001b[0;34m\u001b[0m\u001b[0m\n",
      "\u001b[0;31mValueError\u001b[0m: could not convert string to float: '1ROI_100kx_4100CL_foil1.jpg,1,104,43,198,128,,,1ROI_100kx_4100CL_foil1.jpg,,200kV_500kx_p2nm_8cmCL_grain1_0056'"
     ]
    }
   ],
   "source": [
    "rec, prec = main()"
   ]
  },
  {
   "cell_type": "code",
   "execution_count": 71,
   "metadata": {},
   "outputs": [],
   "source": [
    "#Function to calculate the average precision and recall\n",
    "#Argument - list (elements are tuples(numerator and denominator))\n",
    "#Returns - sum of numerators/sum of denominators\n",
    "def computeAverage(listname):\n",
    "    total = 0\n",
    "    total2 = 0\n",
    "    for i in range(len(listname)):\n",
    "        total += listname[i][0]\n",
    "        total2 += listname[i][1]\n",
    "    return round(total/total2, 2)"
   ]
  },
  {
   "cell_type": "code",
   "execution_count": 72,
   "metadata": {},
   "outputs": [
    {
     "name": "stdout",
     "output_type": "stream",
     "text": [
      "0.74\n",
      "0.89\n"
     ]
    }
   ],
   "source": [
    "print(computeAverage(rec))\n",
    "print(computeAverage(prec))"
   ]
  },
  {
   "cell_type": "code",
   "execution_count": null,
   "metadata": {},
   "outputs": [],
   "source": []
  }
 ],
 "metadata": {
  "kernelspec": {
   "display_name": "Python 3",
   "language": "python",
   "name": "python3"
  },
  "language_info": {
   "codemirror_mode": {
    "name": "ipython",
    "version": 3
   },
   "file_extension": ".py",
   "mimetype": "text/x-python",
   "name": "python",
   "nbconvert_exporter": "python",
   "pygments_lexer": "ipython3",
   "version": "3.6.5"
  }
 },
 "nbformat": 4,
 "nbformat_minor": 2
}
